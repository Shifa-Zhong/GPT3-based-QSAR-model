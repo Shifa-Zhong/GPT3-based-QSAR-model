{
 "cells": [
  {
   "cell_type": "code",
   "execution_count": null,
   "id": "bb056b1b",
   "metadata": {},
   "outputs": [],
   "source": [
    "import json\n",
    "import openai\n",
    "import pandas as pd\n",
    "import numpy as np\n",
    "from sklearn.metrics import mean_squared_error, r2_score, mean_absolute_error"
   ]
  },
  {
   "cell_type": "code",
   "execution_count": null,
   "id": "b409c614",
   "metadata": {},
   "outputs": [],
   "source": [
    "api_key ='Your API keys'\n",
    "openai.api_key = api_key"
   ]
  },
  {
   "cell_type": "code",
   "execution_count": null,
   "id": "77dbab84",
   "metadata": {},
   "outputs": [],
   "source": [
    "test_data=pd.read_csv('koc_test_1.csv')\n",
    "train_data=pd.read_csv('koc_train_1.csv')\n",
    "train_data = train_data[['new_smile','Observed']]\n",
    "test_data = test_data[['new_smile','Observed']]"
   ]
  },
  {
   "cell_type": "code",
   "execution_count": null,
   "id": "cfea21b2",
   "metadata": {},
   "outputs": [],
   "source": [
    "def smi_tokenizer(smi):\n",
    "    \"\"\"\n",
    "    Tokenize a SMILES molecule or reaction\n",
    "    \"\"\"\n",
    "    import re\n",
    "    pattern =  \"(\\[[^\\]]+]|Br?|Cl?|N|O|S|P|F|I|b|c|n|o|s|p|\\(|\\)|\\.|=|#|-|\\+|\\\\\\\\|\\/|:|~|@|\\?|>|\\*|\\$|\\%[0-9]{2}|[0-9])\"\n",
    "    regex = re.compile(pattern)\n",
    "    tokens = [token for token in regex.findall(smi)]\n",
    "    #assert smi == ''.join(tokens)\n",
    "    return ' '.join(tokens)"
   ]
  },
  {
   "cell_type": "code",
   "execution_count": null,
   "id": "a1455761",
   "metadata": {},
   "outputs": [],
   "source": [
    "def tok(target):\n",
    "    return ' '.join(list(str(target)))"
   ]
  },
  {
   "cell_type": "code",
   "execution_count": null,
   "id": "83baa693",
   "metadata": {},
   "outputs": [],
   "source": [
    "train_data['prompt']=train_data['new_smile'].apply(smi_tokenizer)\n",
    "test_data['prompt']=test_data['new_smile'].apply(smi_tokenizer)\n",
    "train_data['completion']=train_data['Observed'].apply(tok)\n",
    "test_data['completion']=test_data['Observed'].apply(tok)\n",
    "train_data['prompt'] = train_data['prompt'] + \" \" +  '->'\n",
    "test_data['prompt'] = test_data['prompt'] + \" \" +  '->'\n",
    "train_data['completion'] = train_data['completion'] + \" \" +  '\\n'\n",
    "test_data['completion'] = test_data['completion'] + \" \" +  '\\n'"
   ]
  },
  {
   "cell_type": "code",
   "execution_count": null,
   "id": "2145d353",
   "metadata": {},
   "outputs": [],
   "source": [
    "train_data_file = [{'prompt': train_data['prompt'][i], 'completion': train_data['completion'][i] } for i in train_data.index]\n",
    "file_name = \"training_data_koc_babbage.jsonl\"\n",
    "with open(file_name, \"w\") as output_file:\n",
    "    for entry in train_data_file:\n",
    "        json.dump(entry, output_file)\n",
    "        output_file.write(\"\\n\")"
   ]
  },
  {
   "cell_type": "code",
   "execution_count": null,
   "id": "7d7dcea5",
   "metadata": {},
   "outputs": [],
   "source": [
    "upload_response = openai.File.create(file=open(file_name, \"rb\"),purpose='fine-tune')\n",
    "file_id = upload_response.id\n",
    "fine_tune_response = openai.FineTune.create(training_file=file_id,model='babbage', suffix = 'koc')\n",
    "if fine_tune_response.fine_tuned_model == None:\n",
    "    fine_tuned_model = openai.FineTune.retrieve(id=fine_tune_response.id).fine_tuned_model\n",
    "print(fine_tuned_model)"
   ]
  },
  {
   "cell_type": "code",
   "execution_count": null,
   "id": "2c7dd2af",
   "metadata": {},
   "outputs": [],
   "source": [
    "y_pred_test = []\n",
    "for i in test_data.index:\n",
    "    new_prompt = test_data['prompt'][i]\n",
    "    answer = openai.Completion.create(model=fine_tuned_model,prompt=new_prompt,max_tokens=100,temperature=0, stop = ['\\n'])\n",
    "    pred_test = float(answer['choices'][0]['text'].replace(' ', ''))\n",
    "    y_pred_test.append(pred_test)"
   ]
  },
  {
   "cell_type": "code",
   "execution_count": null,
   "id": "79ad87d9-dba3-4c7f-a3c6-807b5a8145e5",
   "metadata": {},
   "outputs": [],
   "source": [
    "y_pred_train = []\n",
    "for i in train_data.index:\n",
    "    new_prompt = train_data['prompt'][i]\n",
    "    answer = openai.Completion.create(model=fine_tuned_model,prompt=new_prompt,max_tokens=100,temperature=0, stop = ['\\n'])\n",
    "    pred_train = float(answer['choices'][0]['text'].replace(' ', ''))\n",
    "    y_pred_train.append(pred_train)"
   ]
  },
  {
   "cell_type": "code",
   "execution_count": null,
   "id": "437c27f2",
   "metadata": {},
   "outputs": [],
   "source": [
    "y_pred_train=np.array(y_pred_train)\n",
    "y_pred_test=np.array(y_pred_test)"
   ]
  },
  {
   "cell_type": "code",
   "execution_count": null,
   "id": "25fb9988",
   "metadata": {},
   "outputs": [],
   "source": [
    "y_true_trian = train_data_raw['Observed'].values\n",
    "y_true_test = test_data_raw['Observed'].values"
   ]
  },
  {
   "cell_type": "code",
   "execution_count": null,
   "id": "9e897b41",
   "metadata": {},
   "outputs": [],
   "source": []
  }
 ],
 "metadata": {
  "kernelspec": {
   "display_name": "Python 3 (ipykernel)",
   "language": "python",
   "name": "python3"
  },
  "language_info": {
   "codemirror_mode": {
    "name": "ipython",
    "version": 3
   },
   "file_extension": ".py",
   "mimetype": "text/x-python",
   "name": "python",
   "nbconvert_exporter": "python",
   "pygments_lexer": "ipython3",
   "version": "3.11.5"
  }
 },
 "nbformat": 4,
 "nbformat_minor": 5
}
